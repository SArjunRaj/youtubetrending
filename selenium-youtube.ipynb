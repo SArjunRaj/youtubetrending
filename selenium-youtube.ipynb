{
 "cells": [
  {
   "cell_type": "code",
   "execution_count": 2,
   "id": "2f53cf07",
   "metadata": {},
   "outputs": [],
   "source": [
    "import pandas as pd\n",
    "from selenium import webdriver\n",
    "from selenium.webdriver.chrome.options import Options\n",
    "from selenium.webdriver.common.by import By"
   ]
  },
  {
   "cell_type": "code",
   "execution_count": 3,
   "id": "8817a047",
   "metadata": {},
   "outputs": [],
   "source": [
    "import json\n",
    "import os\n",
    "import smtplib"
   ]
  },
  {
   "cell_type": "code",
   "execution_count": 4,
   "id": "947943bc",
   "metadata": {},
   "outputs": [],
   "source": [
    "driver=webdriver.Chrome()"
   ]
  },
  {
   "cell_type": "code",
   "execution_count": 5,
   "id": "d6983853",
   "metadata": {},
   "outputs": [],
   "source": [
    "trending_youtube_url = 'https://www.youtube.com/feed/trending?bp=4gIKGgh0cmFpbGVycw%3D%3D'\n",
    "driver.get(trending_youtube_url)"
   ]
  },
  {
   "cell_type": "code",
   "execution_count": 9,
   "id": "ab93a8d8",
   "metadata": {},
   "outputs": [],
   "source": [
    "def get_videos(driver):\n",
    "    video_div_class = 'ytd-video-renderer'\n",
    "    driver.get(trending_youtube_url)\n",
    "    videos = driver.find_elements(By.TAG_NAME, video_div_class)\n",
    "    return videos"
   ]
  },
  {
   "cell_type": "code",
   "execution_count": 7,
   "id": "51b83791",
   "metadata": {},
   "outputs": [],
   "source": [
    "def get_driver():\n",
    "    chrome_options = Options()\n",
    "    chrome_options.add_argument('--headless')\n",
    "    chrome_options.add_argument('--no-sandbox')\n",
    "    chrome_options.add_argument('--disable-dev-shm-usage')\n",
    "    chrome_options.add_argument(\"--disable-setuid-sandbox\")\n",
    "    driver = webdriver.Chrome(options=chrome_options)\n",
    "    return driver"
   ]
  },
  {
   "cell_type": "code",
   "execution_count": 10,
   "id": "c548f579",
   "metadata": {},
   "outputs": [],
   "source": [
    "def get_videos(driver):\n",
    "    video_div_class = 'ytd-video-renderer'\n",
    "    #print(\"Fetching the page title...\")\n",
    "    #print(driver.title)\n",
    "    driver.get(trending_youtube_url)\n",
    "    videos = driver.find_elements(By.TAG_NAME, video_div_class)\n",
    "    return videos"
   ]
  },
  {
   "cell_type": "code",
   "execution_count": 11,
   "id": "55602feb",
   "metadata": {},
   "outputs": [],
   "source": [
    "def parse_videos(video):\n",
    "    #title, url, thumbnail, channel name, views, uploaded date and description\n",
    "    title_tag = video.find_element(By.ID, 'video-title')\n",
    "    title = title_tag.text\n",
    "    url = title_tag.get_attribute('href')\n",
    "\n",
    "    thumbnail_tag = video.find_element(By.TAG_NAME, 'img')\n",
    "    thumbnail_url = thumbnail_tag.get_attribute('src')\n",
    "\n",
    "    channel_div = video.find_element(By.CLASS_NAME, 'ytd-channel-name')\n",
    "    channel = channel_div.text\n",
    "\n",
    "    views = video.find_element(By.XPATH,\n",
    "                               '//*[@id=\"metadata-line\"]/span[1]').text\n",
    "    uploaded = video.find_element(By.XPATH,\n",
    "                                  '//*[@id=\"metadata-line\"]/span[2]').text\n",
    "\n",
    "    description_tag = video.find_element(By.ID, 'description-text')\n",
    "    description = description_tag.text\n",
    "\n",
    "    return {\n",
    "        'title ': title,\n",
    "        'url ': url,\n",
    "        'thumbnail_url ': thumbnail_url,\n",
    "        'channel name ': channel,\n",
    "        'views ': views,\n",
    "        'uploaded ': uploaded,\n",
    "        'description ': description\n",
    "    }\n",
    "\n"
   ]
  },
  {
   "cell_type": "code",
   "execution_count": 19,
   "id": "a83b05a9",
   "metadata": {},
   "outputs": [],
   "source": [
    "def parse_videos1(video):\n",
    "    #title, url, thumbnail, channel name, views, uploaded date and description\n",
    "    title_tag = video.find_element(By.ID, 'video-title')\n",
    "    title = title_tag.text\n",
    "    url = title_tag.get_attribute('href')\n",
    "\n",
    "    thumbnail_tag = video.find_element(By.TAG_NAME, 'img')\n",
    "    thumbnail_url = thumbnail_tag.get_attribute('src')\n",
    "\n",
    "    channel_div = video.find_element(By.CLASS_NAME, 'ytd-channel-name')\n",
    "    channel = channel_div.text\n",
    "\n",
    "    views_div = video.find_element(By.CLASS_NAME,\n",
    "                               'ytd-video-meta-block')\n",
    "    views=views_div.text\n",
    "    \n",
    "    uploaded = video.find_element(By.XPATH,\n",
    "                                  '//*[@id=\"metadata-line\"]/span[2]').text\n",
    "\n",
    "    description_tag = video.find_element(By.ID, 'description-text')\n",
    "    description = description_tag.text\n",
    "\n",
    "    return {\n",
    "        'title ': title,\n",
    "        'url ': url,\n",
    "        'thumbnail_url ': thumbnail_url,\n",
    "        'channel name ': channel,\n",
    "        'views ': views,\n",
    "        'uploaded ': uploaded,\n",
    "        'description ': description\n",
    "    }"
   ]
  },
  {
   "cell_type": "code",
   "execution_count": 20,
   "id": "07542b24",
   "metadata": {},
   "outputs": [
    {
     "name": "stdout",
     "output_type": "stream",
     "text": [
      "Creating driver...\n",
      "Fetching trending videos...\n",
      "Fetching the page title...\n",
      "\n"
     ]
    }
   ],
   "source": [
    "print(\"Creating driver...\")\n",
    "driver = get_driver()\n",
    "\n",
    "print(\"Fetching trending videos...\")\n",
    "videos = get_videos(driver)"
   ]
  },
  {
   "cell_type": "code",
   "execution_count": 13,
   "id": "abc0c9c9",
   "metadata": {},
   "outputs": [
    {
     "name": "stdout",
     "output_type": "stream",
     "text": [
      "Found 30 videos.\n"
     ]
    }
   ],
   "source": [
    "print(f'Found {len(videos)} videos.')"
   ]
  },
  {
   "cell_type": "code",
   "execution_count": 21,
   "id": "84569aa7",
   "metadata": {},
   "outputs": [
    {
     "name": "stdout",
     "output_type": "stream",
     "text": [
      "Parsing Top 10 trending movies\n"
     ]
    }
   ],
   "source": [
    "print(\"Parsing Top 10 trending movies\")\n",
    "video_data = [parse_videos1(video) for video in videos[:10]]"
   ]
  },
  {
   "cell_type": "code",
   "execution_count": 24,
   "id": "db2376c2",
   "metadata": {},
   "outputs": [
    {
     "name": "stdout",
     "output_type": "stream",
     "text": [
      "[{'title ': 'Varisu - Official Trailer | Thalapathy Vijay | Rashmika | Vamshi Paidipally | Dil Raju | S.Thaman', 'url ': 'https://www.youtube.com/watch?v=9fux9swQ5AQ', 'thumbnail_url ': 'https://i.ytimg.com/vi/9fux9swQ5AQ/hqdefault.jpg?sqp=-oaymwEcCPYBEIoBSFXyq4qpAw4IARUAAIhCGAFwAcABBg==&rs=AOn4CLBfh98s3JFMEEUz27Nzn9XAZ6eWJQ', 'channel name ': 'Sun TV', 'views ': 'Sun TV\\n47M views\\n3 weeks ago', 'uploaded ': '3 weeks ago', 'description ': 'Presenting the official trailer of Varisu, Starring Thalapathy Vijay & Rashmika Mandanna in the lead roles. Movie Credits: Star Cast - Vijay, Rashmika Mandanna, R Sarathkumar, Prabhu, Prakash...'}, {'title ': 'Thunivu Official Trailer | Ajith Kumar | H Vinoth | Zee Studios | Boney Kapoor | Ghibran', 'url ': 'https://www.youtube.com/watch?v=jnBZboK17_A', 'thumbnail_url ': 'https://i.ytimg.com/vi/jnBZboK17_A/hqdefault.jpg?sqp=-oaymwEcCPYBEIoBSFXyq4qpAw4IARUAAIhCGAFwAcABBg==&rs=AOn4CLDd-lyId9Q-UgfX2gukS0OjNHHYKQ', 'channel name ': 'Zee Studios', 'views ': 'Zee Studios\\n63M views\\n3 weeks ago', 'uploaded ': '3 weeks ago', 'description ': 'Presenting the power packed #ThunivuTrailer starring #AjithKumar #ManjuWarrier. Directed by #HVinoth. Movie: Thunivu Music composed & presented by: Ghibran Starring: Ajith Kumar, Manju Warrier,...'}, {'title ': 'Michael - Official Trailer (Tamil) | Sundeep Kishan, Vijay Sethupathi | Ranjit Jeyakodi | Sam CS', 'url ': 'https://www.youtube.com/watch?v=HBTaKskrt9w', 'thumbnail_url ': 'https://i.ytimg.com/vi/HBTaKskrt9w/hqdefault.jpg?sqp=-oaymwEcCPYBEIoBSFXyq4qpAw4IARUAAIhCGAFwAcABBg==&rs=AOn4CLBTN64lPybLkhlMiof53B2CK4NpaQ', 'channel name ': 'Aditya Music Tamil', 'views ': 'Aditya Music Tamil\\n2.8M views\\n4 days ago', 'uploaded ': '3 weeks ago', 'description ': 'Watch & Enjoy #Michael - Official Trailer (Tamil) Starring :- Sundeep Kishan, Vijay Sethupathi, Divyansha kaushik, Gautham Menon, Varun Sandesh, Ayyappa Sharma, Anasuya, Varalaxmi Sarathkumar...'}, {'title ': 'Bholaa Official Teaser 2 | Bholaa In 3D | Ajay Devgn | Tabu | 30th March 2023', 'url ': 'https://www.youtube.com/watch?v=J6hc0HDkp90', 'thumbnail_url ': None, 'channel name ': 'Ajay Devgn Ffilms', 'views ': 'Ajay Devgn Ffilms\\n•\\n36M views\\n3 days ago', 'uploaded ': '3 weeks ago', 'description ': \"#Bholaa #Adf #BholaaTeaser Here's another look at the unstoppable - Bholaa, directed and produced by Ajay Devgn, starring himself, Tabu, Deepak Dobariyal, Gajraj Rao & Sanjay Mishra. The film...\"}, {'title ': 'Run Baby Run - Official Trailer | RJ Balaji | Aishwarya Rajesh | Jiyen Krishnakumar | Sam CS', 'url ': 'https://www.youtube.com/watch?v=cdokNqlGZrs', 'thumbnail_url ': None, 'channel name ': 'Saregama Tamil', 'views ': 'Saregama Tamil\\n2.7M views\\n8 days ago', 'uploaded ': '3 weeks ago', 'description ': \"Presenting the official trailer of 'Run Baby Run' starring RJ Balaji, Aishwarya Rajesh & Others. produced by Prince Pictures. A film by Jiyen Krishnakumar. In theatres February 3, 2023 Trailer...\"}, {'title ': 'Tu Jhoothi Main Makkaar(Official Trailer) Ranbir,Shraddha |Luv Ranjan | Bhushan K | Ankur G |March 8', 'url ': 'https://www.youtube.com/watch?v=Cx_Dtwn4ayw', 'thumbnail_url ': None, 'channel name ': 'T-Series', 'views ': 'T-Series\\n57M views\\n4 days ago', 'uploaded ': '3 weeks ago', 'description ': \"Madness ensues when a 'Player' in the world of romantic relationships finds a girl who's a worthy opponent. Tu Jhoothi Main Makkaar is a film that believes Love is a battle of wits. Let the...\"}, {'title ': 'Pathaan | Official Trailer | Shah Rukh Khan | Deepika Padukone | John Abraham | Siddharth Anand', 'url ': 'https://www.youtube.com/watch?v=vqu4z34wENw', 'thumbnail_url ': None, 'channel name ': 'YRF', 'views ': 'YRF\\n66M views\\n2 weeks ago', 'uploaded ': '3 weeks ago', 'description ': 'It doesn’t get BIGGER than this! Here’s the Pathaan Trailer that you all have been waiting for! Book your tickets NOW! BookMyShow: https://bookmy.show/Pathaan | Paytm: https://m.paytm.me/patha...'}, {'title ': 'Veera Simha Reddy Trailer | Nandamuri Balakrishna | Gopichand Malineni | Thaman S | Shruti Haasan', 'url ': 'https://www.youtube.com/watch?v=XUdcXkvYJs0', 'thumbnail_url ': None, 'channel name ': 'Mythri Movie Makers', 'views ': 'Mythri Movie Makers\\n20M views\\n3 weeks ago', 'uploaded ': '3 weeks ago', 'description ': 'Veera Simha Reddy Trailer on Mythri Movie Makers. Presenting our NATASIMHAM Nandamuri Balakrishna, Shruti Haasan and Varalaxmi Sarathkumar in Veera Simha Reddy. The film has been Written and...'}, {'title ': 'Dada - Official Teaser | Kavin | Aparna Das | Ganesh K Babu | S. Ambeth Kumar | Olympia Movies', 'url ': 'https://www.youtube.com/watch?v=sTNsRM-KaS0', 'thumbnail_url ': None, 'channel name ': 'Think Music India', 'views ': 'Think Music India\\n4.4M views\\n2 weeks ago', 'uploaded ': '3 weeks ago', 'description ': '#Dada #DadaTeaser #Kavin #AparnaDas #GaneshKBabu #OlympiaMovies Presenting the Official Teaser of \"DADA\", Starring Kavin & Aparna Das in the lead roles. Movie Credits: Starring - Kavin,...'}, {'title ': 'AYALI | A ZEE5 Original | Official Trailer | Muthukumar | Watch Now on ZEE5', 'url ': 'https://www.youtube.com/watch?v=yzTQ8y0dImQ', 'thumbnail_url ': None, 'channel name ': 'ZEE5', 'views ': 'ZEE5\\n3.6M views\\n9 days ago', 'uploaded ': '3 weeks ago', 'description ': 'Presenting you with the Official Trailer of the ZEE5 Original Series \"AYALI\" directed by Muthukumar. Plot: Young Tamizhselvi’s quest towards her dream of becoming a doctor, defying the feared...'}]\n",
      "Save the data to csv\n"
     ]
    }
   ],
   "source": [
    "print(video_data)\n",
    "print('Save the data to csv')\n",
    "videos_df = pd.DataFrame(video_data)"
   ]
  },
  {
   "cell_type": "code",
   "execution_count": 26,
   "id": "56bb45cd",
   "metadata": {},
   "outputs": [
    {
     "name": "stdout",
     "output_type": "stream",
     "text": [
      "                                              title   \\\n",
      "0  Varisu - Official Trailer | Thalapathy Vijay |...   \n",
      "1  Thunivu Official Trailer | Ajith Kumar | H Vin...   \n",
      "2  Michael - Official Trailer (Tamil) | Sundeep K...   \n",
      "3  Bholaa Official Teaser 2 | Bholaa In 3D | Ajay...   \n",
      "4  Run Baby Run - Official Trailer | RJ Balaji | ...   \n",
      "5  Tu Jhoothi Main Makkaar(Official Trailer) Ranb...   \n",
      "6  Pathaan | Official Trailer | Shah Rukh Khan | ...   \n",
      "7  Veera Simha Reddy Trailer | Nandamuri Balakris...   \n",
      "8  Dada - Official Teaser | Kavin | Aparna Das | ...   \n",
      "9  AYALI | A ZEE5 Original | Official Trailer | M...   \n",
      "\n",
      "                                          url   \\\n",
      "0  https://www.youtube.com/watch?v=9fux9swQ5AQ   \n",
      "1  https://www.youtube.com/watch?v=jnBZboK17_A   \n",
      "2  https://www.youtube.com/watch?v=HBTaKskrt9w   \n",
      "3  https://www.youtube.com/watch?v=J6hc0HDkp90   \n",
      "4  https://www.youtube.com/watch?v=cdokNqlGZrs   \n",
      "5  https://www.youtube.com/watch?v=Cx_Dtwn4ayw   \n",
      "6  https://www.youtube.com/watch?v=vqu4z34wENw   \n",
      "7  https://www.youtube.com/watch?v=XUdcXkvYJs0   \n",
      "8  https://www.youtube.com/watch?v=sTNsRM-KaS0   \n",
      "9  https://www.youtube.com/watch?v=yzTQ8y0dImQ   \n",
      "\n",
      "                                      thumbnail_url         channel name   \\\n",
      "0  https://i.ytimg.com/vi/9fux9swQ5AQ/hqdefault.j...               Sun TV   \n",
      "1  https://i.ytimg.com/vi/jnBZboK17_A/hqdefault.j...          Zee Studios   \n",
      "2  https://i.ytimg.com/vi/HBTaKskrt9w/hqdefault.j...   Aditya Music Tamil   \n",
      "3                                               None    Ajay Devgn Ffilms   \n",
      "4                                               None       Saregama Tamil   \n",
      "5                                               None             T-Series   \n",
      "6                                               None                  YRF   \n",
      "7                                               None  Mythri Movie Makers   \n",
      "8                                               None    Think Music India   \n",
      "9                                               None                 ZEE5   \n",
      "\n",
      "                                        views     uploaded   \\\n",
      "0               Sun TV\\n47M views\\n3 weeks ago  3 weeks ago   \n",
      "1          Zee Studios\\n63M views\\n3 weeks ago  3 weeks ago   \n",
      "2   Aditya Music Tamil\\n2.8M views\\n4 days ago  3 weeks ago   \n",
      "3  Ajay Devgn Ffilms\\n•\\n36M views\\n3 days ago  3 weeks ago   \n",
      "4       Saregama Tamil\\n2.7M views\\n8 days ago  3 weeks ago   \n",
      "5              T-Series\\n57M views\\n4 days ago  3 weeks ago   \n",
      "6                  YRF\\n66M views\\n2 weeks ago  3 weeks ago   \n",
      "7  Mythri Movie Makers\\n20M views\\n3 weeks ago  3 weeks ago   \n",
      "8   Think Music India\\n4.4M views\\n2 weeks ago  3 weeks ago   \n",
      "9                 ZEE5\\n3.6M views\\n9 days ago  3 weeks ago   \n",
      "\n",
      "                                        description   \n",
      "0  Presenting the official trailer of Varisu, Sta...  \n",
      "1  Presenting the power packed #ThunivuTrailer st...  \n",
      "2  Watch & Enjoy #Michael - Official Trailer (Tam...  \n",
      "3  #Bholaa #Adf #BholaaTeaser Here's another look...  \n",
      "4  Presenting the official trailer of 'Run Baby R...  \n",
      "5  Madness ensues when a 'Player' in the world of...  \n",
      "6  It doesn’t get BIGGER than this! Here’s the Pa...  \n",
      "7  Veera Simha Reddy Trailer on Mythri Movie Make...  \n",
      "8  #Dada #DadaTeaser #Kavin #AparnaDas #GaneshKBa...  \n",
      "9  Presenting you with the Official Trailer of th...  \n"
     ]
    }
   ],
   "source": [
    "print(videos_df)\n",
    "videos_df.to_csv('YT_trending1.csv', index=None)\n"
   ]
  },
  {
   "cell_type": "code",
   "execution_count": null,
   "id": "989ba9cb",
   "metadata": {},
   "outputs": [],
   "source": []
  }
 ],
 "metadata": {
  "kernelspec": {
   "display_name": "Python 3 (ipykernel)",
   "language": "python",
   "name": "python3"
  },
  "language_info": {
   "codemirror_mode": {
    "name": "ipython",
    "version": 3
   },
   "file_extension": ".py",
   "mimetype": "text/x-python",
   "name": "python",
   "nbconvert_exporter": "python",
   "pygments_lexer": "ipython3",
   "version": "3.9.13"
  }
 },
 "nbformat": 4,
 "nbformat_minor": 5
}
